{
 "cells": [
  {
   "cell_type": "code",
   "execution_count": 2,
   "metadata": {},
   "outputs": [
    {
     "name": "stdout",
     "output_type": "stream",
     "text": [
      "Checking whether there is an H2O instance running at http://localhost:54321 ..... not found.\n",
      "Attempting to start a local H2O server...\n",
      "; Java HotSpot(TM) 64-Bit Server VM (build 25.201-b09, mixed mode)\n",
      "  Starting server from C:\\Users\\tawde\\Anaconda3\\lib\\site-packages\\h2o\\backend\\bin\\h2o.jar\n",
      "  Ice root: C:\\Users\\tawde\\AppData\\Local\\Temp\\tmpd12sfw3y\n",
      "  JVM stdout: C:\\Users\\tawde\\AppData\\Local\\Temp\\tmpd12sfw3y\\h2o_tawde_started_from_python.out\n",
      "  JVM stderr: C:\\Users\\tawde\\AppData\\Local\\Temp\\tmpd12sfw3y\\h2o_tawde_started_from_python.err\n",
      "  Server is running at http://127.0.0.1:54321\n",
      "Connecting to H2O server at http://127.0.0.1:54321 ... successful.\n"
     ]
    },
    {
     "data": {
      "text/html": [
       "<div style=\"overflow:auto\"><table style=\"width:50%\"><tr><td>H2O cluster uptime:</td>\n",
       "<td>03 secs</td></tr>\n",
       "<tr><td>H2O cluster timezone:</td>\n",
       "<td>America/New_York</td></tr>\n",
       "<tr><td>H2O data parsing timezone:</td>\n",
       "<td>UTC</td></tr>\n",
       "<tr><td>H2O cluster version:</td>\n",
       "<td>3.24.0.2</td></tr>\n",
       "<tr><td>H2O cluster version age:</td>\n",
       "<td>8 days </td></tr>\n",
       "<tr><td>H2O cluster name:</td>\n",
       "<td>H2O_from_python_tawde_c9tr6f</td></tr>\n",
       "<tr><td>H2O cluster total nodes:</td>\n",
       "<td>1</td></tr>\n",
       "<tr><td>H2O cluster free memory:</td>\n",
       "<td>3.523 Gb</td></tr>\n",
       "<tr><td>H2O cluster total cores:</td>\n",
       "<td>0</td></tr>\n",
       "<tr><td>H2O cluster allowed cores:</td>\n",
       "<td>0</td></tr>\n",
       "<tr><td>H2O cluster status:</td>\n",
       "<td>accepting new members, healthy</td></tr>\n",
       "<tr><td>H2O connection url:</td>\n",
       "<td>http://127.0.0.1:54321</td></tr>\n",
       "<tr><td>H2O connection proxy:</td>\n",
       "<td>None</td></tr>\n",
       "<tr><td>H2O internal security:</td>\n",
       "<td>False</td></tr>\n",
       "<tr><td>H2O API Extensions:</td>\n",
       "<td>Amazon S3, Algos, AutoML, Core V3, Core V4</td></tr>\n",
       "<tr><td>Python version:</td>\n",
       "<td>3.6.8 final</td></tr></table></div>"
      ],
      "text/plain": [
       "--------------------------  ------------------------------------------\n",
       "H2O cluster uptime:         03 secs\n",
       "H2O cluster timezone:       America/New_York\n",
       "H2O data parsing timezone:  UTC\n",
       "H2O cluster version:        3.24.0.2\n",
       "H2O cluster version age:    8 days\n",
       "H2O cluster name:           H2O_from_python_tawde_c9tr6f\n",
       "H2O cluster total nodes:    1\n",
       "H2O cluster free memory:    3.523 Gb\n",
       "H2O cluster total cores:    0\n",
       "H2O cluster allowed cores:  0\n",
       "H2O cluster status:         accepting new members, healthy\n",
       "H2O connection url:         http://127.0.0.1:54321\n",
       "H2O connection proxy:\n",
       "H2O internal security:      False\n",
       "H2O API Extensions:         Amazon S3, Algos, AutoML, Core V3, Core V4\n",
       "Python version:             3.6.8 final\n",
       "--------------------------  ------------------------------------------"
      ]
     },
     "metadata": {},
     "output_type": "display_data"
    }
   ],
   "source": [
    "import h2o\n",
    "from h2o.automl import H2OAutoML\n",
    "h2o.init()"
   ]
  },
  {
   "cell_type": "code",
   "execution_count": 17,
   "metadata": {},
   "outputs": [],
   "source": [
    "import numpy as np\n",
    "\n",
    "def MAPE(test, predict):\n",
    "    mape = 0\n",
    "\n",
    "    for i, j in zip(test['App'].as_data_frame().values, predict.as_data_frame().values):\n",
    "        mape += np.abs((i-j)/i)\n",
    "\n",
    "    mape = (mape/test.shape[0])*100\n",
    "    accuracy = 100 - np.mean(mape)\n",
    "    print('Accuracy:', round(accuracy, 2), '%.')\n",
    "\n",
    "    return mape"
   ]
  },
  {
   "cell_type": "code",
   "execution_count": 4,
   "metadata": {},
   "outputs": [
    {
     "name": "stdout",
     "output_type": "stream",
     "text": [
      "Parse progress: |█████████████████████████████████████████████████████████| 100%\n"
     ]
    }
   ],
   "source": [
    "df = h2o.import_file('../Final Project/Data/model_input.csv')"
   ]
  },
  {
   "cell_type": "code",
   "execution_count": 5,
   "metadata": {},
   "outputs": [
    {
     "data": {
      "text/plain": [
       "(16682, 9)"
      ]
     },
     "execution_count": 5,
     "metadata": {},
     "output_type": "execute_result"
    }
   ],
   "source": [
    "df.shape"
   ]
  },
  {
   "cell_type": "code",
   "execution_count": 6,
   "metadata": {},
   "outputs": [],
   "source": [
    "train, test = df.split_frame(\n",
    "    ratios=[0.8], \n",
    "    seed=1234, \n",
    "    destination_frames=['train.hex', 'test.hex']\n",
    ")"
   ]
  },
  {
   "cell_type": "code",
   "execution_count": 7,
   "metadata": {},
   "outputs": [
    {
     "name": "stdout",
     "output_type": "stream",
     "text": [
      "train shape: (13417, 9)\n",
      "test shape: (3265, 9)\n"
     ]
    }
   ],
   "source": [
    "print('train shape: {}'.format(train.shape))\n",
    "print('test shape: {}'.format(test.shape))"
   ]
  },
  {
   "cell_type": "code",
   "execution_count": 8,
   "metadata": {},
   "outputs": [],
   "source": [
    "y = 'App'"
   ]
  },
  {
   "cell_type": "code",
   "execution_count": 9,
   "metadata": {},
   "outputs": [],
   "source": [
    "predictors = ['Good Cost','Bad Cost','Good Recommendation','Bad Recommendation','Good Stability','Bad Stability','Ads','No Ads']"
   ]
  },
  {
   "cell_type": "code",
   "execution_count": 12,
   "metadata": {},
   "outputs": [],
   "source": [
    "aml = H2OAutoML(max_runtime_secs= 600, seed = 1, project_name = \"lending_club\")"
   ]
  },
  {
   "cell_type": "code",
   "execution_count": 13,
   "metadata": {},
   "outputs": [
    {
     "name": "stdout",
     "output_type": "stream",
     "text": [
      "AutoML progress: |████████████████████████████████████████████████████████| 100%\n"
     ]
    }
   ],
   "source": [
    "aml.train(x= predictors, y= y, training_frame= train)"
   ]
  },
  {
   "cell_type": "code",
   "execution_count": 14,
   "metadata": {},
   "outputs": [
    {
     "data": {
      "text/html": [
       "<table>\n",
       "<thead>\n",
       "<tr><th>model_id                                           </th><th style=\"text-align: right;\">  mean_residual_deviance</th><th style=\"text-align: right;\">    rmse</th><th style=\"text-align: right;\">     mse</th><th style=\"text-align: right;\">     mae</th><th style=\"text-align: right;\">   rmsle</th></tr>\n",
       "</thead>\n",
       "<tbody>\n",
       "<tr><td>GBM_5_AutoML_20190425_141959                       </td><td style=\"text-align: right;\">                0.93218 </td><td style=\"text-align: right;\">0.965495</td><td style=\"text-align: right;\">0.93218 </td><td style=\"text-align: right;\">0.793557</td><td style=\"text-align: right;\">0.308814</td></tr>\n",
       "<tr><td>StackedEnsemble_BestOfFamily_AutoML_20190425_141959</td><td style=\"text-align: right;\">                0.933103</td><td style=\"text-align: right;\">0.965972</td><td style=\"text-align: right;\">0.933103</td><td style=\"text-align: right;\">0.792817</td><td style=\"text-align: right;\">0.308934</td></tr>\n",
       "<tr><td>GBM_grid_1_AutoML_20190425_141959_model_6          </td><td style=\"text-align: right;\">                0.933335</td><td style=\"text-align: right;\">0.966093</td><td style=\"text-align: right;\">0.933335</td><td style=\"text-align: right;\">0.793376</td><td style=\"text-align: right;\">0.308965</td></tr>\n",
       "<tr><td>StackedEnsemble_AllModels_AutoML_20190425_141959   </td><td style=\"text-align: right;\">                0.933505</td><td style=\"text-align: right;\">0.966181</td><td style=\"text-align: right;\">0.933505</td><td style=\"text-align: right;\">0.793224</td><td style=\"text-align: right;\">0.30897 </td></tr>\n",
       "<tr><td>GBM_2_AutoML_20190425_141959                       </td><td style=\"text-align: right;\">                0.934694</td><td style=\"text-align: right;\">0.966796</td><td style=\"text-align: right;\">0.934694</td><td style=\"text-align: right;\">0.792798</td><td style=\"text-align: right;\">0.309118</td></tr>\n",
       "<tr><td>GBM_3_AutoML_20190425_141959                       </td><td style=\"text-align: right;\">                0.935137</td><td style=\"text-align: right;\">0.967025</td><td style=\"text-align: right;\">0.935137</td><td style=\"text-align: right;\">0.792749</td><td style=\"text-align: right;\">0.309167</td></tr>\n",
       "<tr><td>GBM_4_AutoML_20190425_141959                       </td><td style=\"text-align: right;\">                0.935601</td><td style=\"text-align: right;\">0.967265</td><td style=\"text-align: right;\">0.935601</td><td style=\"text-align: right;\">0.792725</td><td style=\"text-align: right;\">0.309224</td></tr>\n",
       "<tr><td>GBM_grid_1_AutoML_20190425_141959_model_8          </td><td style=\"text-align: right;\">                0.936345</td><td style=\"text-align: right;\">0.967649</td><td style=\"text-align: right;\">0.936345</td><td style=\"text-align: right;\">0.79305 </td><td style=\"text-align: right;\">0.309419</td></tr>\n",
       "<tr><td>GBM_grid_1_AutoML_20190425_141959_model_4          </td><td style=\"text-align: right;\">                0.936923</td><td style=\"text-align: right;\">0.967948</td><td style=\"text-align: right;\">0.936923</td><td style=\"text-align: right;\">0.793092</td><td style=\"text-align: right;\">0.309345</td></tr>\n",
       "<tr><td>GBM_grid_1_AutoML_20190425_141959_model_5          </td><td style=\"text-align: right;\">                0.937953</td><td style=\"text-align: right;\">0.96848 </td><td style=\"text-align: right;\">0.937953</td><td style=\"text-align: right;\">0.794786</td><td style=\"text-align: right;\">0.309717</td></tr>\n",
       "</tbody>\n",
       "</table>"
      ]
     },
     "metadata": {},
     "output_type": "display_data"
    },
    {
     "data": {
      "text/plain": []
     },
     "execution_count": 14,
     "metadata": {},
     "output_type": "execute_result"
    }
   ],
   "source": [
    "aml.leaderboard"
   ]
  },
  {
   "cell_type": "code",
   "execution_count": 15,
   "metadata": {},
   "outputs": [
    {
     "name": "stdout",
     "output_type": "stream",
     "text": [
      "gbm prediction progress: |████████████████████████████████████████████████| 100%\n"
     ]
    }
   ],
   "source": [
    "preds = aml.predict(test)"
   ]
  },
  {
   "cell_type": "code",
   "execution_count": 18,
   "metadata": {},
   "outputs": [
    {
     "name": "stdout",
     "output_type": "stream",
     "text": [
      "Accuracy: 52.49 %.\n"
     ]
    },
    {
     "data": {
      "text/plain": [
       "array([47.50594801])"
      ]
     },
     "execution_count": 18,
     "metadata": {},
     "output_type": "execute_result"
    }
   ],
   "source": [
    "MAPE(test, preds)"
   ]
  },
  {
   "cell_type": "code",
   "execution_count": null,
   "metadata": {},
   "outputs": [],
   "source": []
  }
 ],
 "metadata": {
  "kernelspec": {
   "display_name": "Python 3",
   "language": "python",
   "name": "python3"
  },
  "language_info": {
   "codemirror_mode": {
    "name": "ipython",
    "version": 3
   },
   "file_extension": ".py",
   "mimetype": "text/x-python",
   "name": "python",
   "nbconvert_exporter": "python",
   "pygments_lexer": "ipython3",
   "version": "3.7.1"
  }
 },
 "nbformat": 4,
 "nbformat_minor": 2
}
