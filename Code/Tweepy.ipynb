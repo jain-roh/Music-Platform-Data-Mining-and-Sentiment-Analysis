{
 "cells": [
  {
   "cell_type": "code",
   "execution_count": 27,
   "metadata": {},
   "outputs": [],
   "source": [
    "import tweepy\n",
    "import json\n",
    "import pandas as pd\n",
    "from pandas import DataFrame as df\n",
    "def limit_handled(cursor):\n",
    "    while True:\n",
    "        try:\n",
    "            yield cursor.next()\n",
    "        except tweepy.RateLimitError:\n",
    "            time.sleep(15 * 60)\n",
    "auth = tweepy.OAuthHandler('h2Ec61T4KdLdbwfIiugdgSjg5', 'SfS5AGPyN2hovxElLi8SIb0ViIhWtTzZUAAPyG80aIRguAoiIH')\n",
    "auth.set_access_token('112085069-uzxDSeJiPUMv0qOCiLi3kVLdIXGu0krjqaOngD3O', 'xGF2kyvNRj5tOQ29eudp7UBkKc9s039zFewlTapgHNTZo')\n",
    "\n",
    "api = tweepy.API(auth,wait_on_rate_limit=True)\n",
    "\n",
    "public_tweets = api.home_timeline()\n",
    "c=tweepy.Cursor(api.search, q='%23Spotify')\n",
    "c.pages(1500)\n",
    "Tweet_Text = []\n",
    "Tweet_Id=[]\n",
    "Tweet_Creator=[]\n",
    "Tweet_Date=[]\n",
    "Data={}\n",
    "j=0\n",
    "\n",
    "for tweet in c.items():\n",
    "    j=j+1\n",
    "    if tweet.lang == 'en':\n",
    "        createdAt = str(tweet.created_at)\n",
    "        Tweet_Text.append(tweet.text)\n",
    "        Tweet_Date.append(createdAt)\n",
    "        Tweet_Creator.append(tweet.author.name)\n",
    "        Tweet_Id.append(j)\n",
    "Data[\"Id\"]=Tweet_Id\n",
    "Data[\"Creator\"]=Tweet_Creator\n",
    "Data[\"Text\"]=Tweet_Text\n",
    "Data[\"Date\"]=Tweet_Date\n",
    "df = pd.DataFrame(Data)\n",
    "df.to_csv('../Final Project/Data/AmazonMusicData.csv')\n",
    "\n",
    "#dump the data into json format"
   ]
  },
  {
   "cell_type": "code",
   "execution_count": 1,
   "metadata": {},
   "outputs": [],
   "source": [
    "final_data=['data','lk','mr']"
   ]
  },
  {
   "cell_type": "code",
   "execution_count": null,
   "metadata": {},
   "outputs": [],
   "source": [
    "df="
   ]
  }
 ],
 "metadata": {
  "kernelspec": {
   "display_name": "Python 3",
   "language": "python",
   "name": "python3"
  },
  "language_info": {
   "codemirror_mode": {
    "name": "ipython",
    "version": 3
   },
   "file_extension": ".py",
   "mimetype": "text/x-python",
   "name": "python",
   "nbconvert_exporter": "python",
   "pygments_lexer": "ipython3",
   "version": "3.7.1"
  }
 },
 "nbformat": 4,
 "nbformat_minor": 2
}
